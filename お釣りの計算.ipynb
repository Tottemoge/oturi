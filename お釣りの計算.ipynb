{
  "nbformat": 4,
  "nbformat_minor": 0,
  "metadata": {
    "colab": {
      "provenance": []
    },
    "kernelspec": {
      "name": "python3",
      "display_name": "Python 3"
    },
    "language_info": {
      "name": "python"
    }
  },
  "cells": [
    {
      "cell_type": "code",
      "source": [
        "n = int(input('入力する金額(10の倍数): '))\n",
        "x = 170  # 自販機の商品の値段\n",
        "\n",
        "turi500 = 0\n",
        "turi100 = 0\n",
        "turi50 = 0\n",
        "turi10 = 0\n",
        "\n",
        "# お釣りの金額を計算\n",
        "turi = n - x\n",
        "\n",
        "if turi < 0:\n",
        "    print('金額が不足しています。')\n",
        "else:\n",
        "\n",
        "    if turi >= 500:\n",
        "        turi500 = turi // 500\n",
        "        turi %= 500\n",
        "\n",
        "\n",
        "    if turi >= 100:\n",
        "        turi100 = turi // 100\n",
        "        turi %= 100\n",
        "\n",
        "\n",
        "    if turi >= 50:\n",
        "        turi50 = turi // 50\n",
        "        turi %= 50\n",
        "\n",
        "\n",
        "    if turi >= 10:\n",
        "        turi10 = turi // 10\n",
        "        turi %= 10\n",
        "\n",
        "    print('お釣りは', n - x, '円です')\n",
        "    print('500円', turi500, '枚')\n",
        "    print('100円', turi100, '枚')\n",
        "    print('50円', turi50, '枚')\n",
        "    print('10円', turi10, '枚')\n"
      ],
      "metadata": {
        "colab": {
          "base_uri": "https://localhost:8080/"
        },
        "id": "MrvjfmImQl1X",
        "outputId": "7db7aa13-f01d-4827-ec07-48fe1e2e8594"
      },
      "execution_count": 28,
      "outputs": [
        {
          "output_type": "stream",
          "name": "stdout",
          "text": [
            "入力する金額(10の倍数): 2000\n",
            "お釣りは 1830 円です\n",
            "500円 3 枚\n",
            "100円 3 枚\n",
            "50円 0 枚\n",
            "10円 3 枚\n"
          ]
        }
      ]
    }
  ]
}